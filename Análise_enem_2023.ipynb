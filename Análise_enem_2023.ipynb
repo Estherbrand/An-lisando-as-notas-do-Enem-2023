{
 "cells": [
  {
   "cell_type": "markdown",
   "metadata": {},
   "source": [
    "Você é uma pesquisadora de um cursinho para estudantes que querem\n",
    " ingressar na universidade em 2025. Seu objetivo é retirar informações da base\n",
    " de dados do enem do ano anterior para alinhar melhor as estratégias do\n",
    " cursinho para cada estudante. O dado possui 6 colunas, 5 delas representam\n",
    " as disciplinas do ENEM e uma o gênero das pessoas que fizeram a prova. No\n",
    " dado existe a representação de 1000 pessoas, sendo cada uma delas uma\n",
    " linha."
   ]
  },
  {
   "cell_type": "code",
   "execution_count": null,
   "metadata": {},
   "outputs": [
    {
     "name": "stdout",
     "output_type": "stream",
     "text": [
      "Requirement already satisfied: pandas in c:\\users\\deise\\appdata\\local\\packages\\pythonsoftwarefoundation.python.3.11_qbz5n2kfra8p0\\localcache\\local-packages\\python311\\site-packages (2.2.3)\n",
      "Requirement already satisfied: numpy in c:\\users\\deise\\appdata\\local\\packages\\pythonsoftwarefoundation.python.3.11_qbz5n2kfra8p0\\localcache\\local-packages\\python311\\site-packages (2.2.3)\n",
      "Requirement already satisfied: matplotlib in c:\\users\\deise\\appdata\\local\\packages\\pythonsoftwarefoundation.python.3.11_qbz5n2kfra8p0\\localcache\\local-packages\\python311\\site-packages (3.10.1)\n",
      "Requirement already satisfied: scipy in c:\\users\\deise\\appdata\\local\\packages\\pythonsoftwarefoundation.python.3.11_qbz5n2kfra8p0\\localcache\\local-packages\\python311\\site-packages (1.15.2)\n",
      "Requirement already satisfied: seaborn in c:\\users\\deise\\appdata\\local\\packages\\pythonsoftwarefoundation.python.3.11_qbz5n2kfra8p0\\localcache\\local-packages\\python311\\site-packages (0.13.2)\n",
      "Requirement already satisfied: python-dateutil>=2.8.2 in c:\\users\\deise\\appdata\\local\\packages\\pythonsoftwarefoundation.python.3.11_qbz5n2kfra8p0\\localcache\\local-packages\\python311\\site-packages (from pandas) (2.9.0.post0)\n",
      "Requirement already satisfied: pytz>=2020.1 in c:\\users\\deise\\appdata\\local\\packages\\pythonsoftwarefoundation.python.3.11_qbz5n2kfra8p0\\localcache\\local-packages\\python311\\site-packages (from pandas) (2025.1)\n",
      "Requirement already satisfied: tzdata>=2022.7 in c:\\users\\deise\\appdata\\local\\packages\\pythonsoftwarefoundation.python.3.11_qbz5n2kfra8p0\\localcache\\local-packages\\python311\\site-packages (from pandas) (2025.1)\n",
      "Requirement already satisfied: contourpy>=1.0.1 in c:\\users\\deise\\appdata\\local\\packages\\pythonsoftwarefoundation.python.3.11_qbz5n2kfra8p0\\localcache\\local-packages\\python311\\site-packages (from matplotlib) (1.3.1)\n",
      "Requirement already satisfied: cycler>=0.10 in c:\\users\\deise\\appdata\\local\\packages\\pythonsoftwarefoundation.python.3.11_qbz5n2kfra8p0\\localcache\\local-packages\\python311\\site-packages (from matplotlib) (0.12.1)\n",
      "Requirement already satisfied: fonttools>=4.22.0 in c:\\users\\deise\\appdata\\local\\packages\\pythonsoftwarefoundation.python.3.11_qbz5n2kfra8p0\\localcache\\local-packages\\python311\\site-packages (from matplotlib) (4.56.0)\n",
      "Requirement already satisfied: kiwisolver>=1.3.1 in c:\\users\\deise\\appdata\\local\\packages\\pythonsoftwarefoundation.python.3.11_qbz5n2kfra8p0\\localcache\\local-packages\\python311\\site-packages (from matplotlib) (1.4.8)\n",
      "Requirement already satisfied: packaging>=20.0 in c:\\users\\deise\\appdata\\local\\packages\\pythonsoftwarefoundation.python.3.11_qbz5n2kfra8p0\\localcache\\local-packages\\python311\\site-packages (from matplotlib) (24.2)\n",
      "Requirement already satisfied: pillow>=8 in c:\\users\\deise\\appdata\\local\\packages\\pythonsoftwarefoundation.python.3.11_qbz5n2kfra8p0\\localcache\\local-packages\\python311\\site-packages (from matplotlib) (11.1.0)\n",
      "Requirement already satisfied: pyparsing>=2.3.1 in c:\\users\\deise\\appdata\\local\\packages\\pythonsoftwarefoundation.python.3.11_qbz5n2kfra8p0\\localcache\\local-packages\\python311\\site-packages (from matplotlib) (3.2.1)\n",
      "Requirement already satisfied: six>=1.5 in c:\\users\\deise\\appdata\\local\\packages\\pythonsoftwarefoundation.python.3.11_qbz5n2kfra8p0\\localcache\\local-packages\\python311\\site-packages (from python-dateutil>=2.8.2->pandas) (1.17.0)\n",
      "Note: you may need to restart the kernel to use updated packages.\n"
     ]
    },
    {
     "name": "stderr",
     "output_type": "stream",
     "text": [
      "\n",
      "[notice] A new release of pip is available: 24.0 -> 25.0.1\n",
      "[notice] To update, run: C:\\Users\\deise\\AppData\\Local\\Microsoft\\WindowsApps\\PythonSoftwareFoundation.Python.3.11_qbz5n2kfra8p0\\python.exe -m pip install --upgrade pip\n"
     ]
    }
   ],
   "source": [
    "pip install pandas numpy matplotlib scipy seaborn #bibliotecas"
   ]
  },
  {
   "cell_type": "code",
   "execution_count": null,
   "metadata": {},
   "outputs": [],
   "source": [
    "#Importando as bibliotecas\n",
    "import pandas as pd\n",
    "import numpy as np\n",
    "import matplotlib.pyplot as plt\n",
    "import seaborn as sns\n",
    "import scipy.stats as stats"
   ]
  },
  {
   "cell_type": "code",
   "execution_count": 4,
   "metadata": {},
   "outputs": [
    {
     "data": {
      "text/html": [
       "<div>\n",
       "<style scoped>\n",
       "    .dataframe tbody tr th:only-of-type {\n",
       "        vertical-align: middle;\n",
       "    }\n",
       "\n",
       "    .dataframe tbody tr th {\n",
       "        vertical-align: top;\n",
       "    }\n",
       "\n",
       "    .dataframe thead th {\n",
       "        text-align: right;\n",
       "    }\n",
       "</style>\n",
       "<table border=\"1\" class=\"dataframe\">\n",
       "  <thead>\n",
       "    <tr style=\"text-align: right;\">\n",
       "      <th></th>\n",
       "      <th>Linguagens</th>\n",
       "      <th>Ciências humanas</th>\n",
       "      <th>Ciências da natureza</th>\n",
       "      <th>Matemática</th>\n",
       "      <th>Redação</th>\n",
       "      <th>Sexo</th>\n",
       "    </tr>\n",
       "  </thead>\n",
       "  <tbody>\n",
       "    <tr>\n",
       "      <th>0</th>\n",
       "      <td>585.669300</td>\n",
       "      <td>686.512178</td>\n",
       "      <td>390.482473</td>\n",
       "      <td>452.281333</td>\n",
       "      <td>546.371706</td>\n",
       "      <td>Homem</td>\n",
       "    </tr>\n",
       "    <tr>\n",
       "      <th>1</th>\n",
       "      <td>359.384608</td>\n",
       "      <td>642.084134</td>\n",
       "      <td>NaN</td>\n",
       "      <td>412.205207</td>\n",
       "      <td>741.825256</td>\n",
       "      <td>Mulher</td>\n",
       "    </tr>\n",
       "    <tr>\n",
       "      <th>2</th>\n",
       "      <td>622.732384</td>\n",
       "      <td>495.510719</td>\n",
       "      <td>443.183580</td>\n",
       "      <td>669.683401</td>\n",
       "      <td>684.515750</td>\n",
       "      <td>Homem</td>\n",
       "    </tr>\n",
       "    <tr>\n",
       "      <th>3</th>\n",
       "      <td>350.164605</td>\n",
       "      <td>602.041588</td>\n",
       "      <td>413.979810</td>\n",
       "      <td>676.608952</td>\n",
       "      <td>671.237114</td>\n",
       "      <td>Homem</td>\n",
       "    </tr>\n",
       "    <tr>\n",
       "      <th>4</th>\n",
       "      <td>384.093657</td>\n",
       "      <td>489.249140</td>\n",
       "      <td>609.758123</td>\n",
       "      <td>520.426698</td>\n",
       "      <td>744.375048</td>\n",
       "      <td>Homem</td>\n",
       "    </tr>\n",
       "  </tbody>\n",
       "</table>\n",
       "</div>"
      ],
      "text/plain": [
       "   Linguagens  Ciências humanas  Ciências da natureza  Matemática     Redação  \\\n",
       "0  585.669300        686.512178            390.482473  452.281333  546.371706   \n",
       "1  359.384608        642.084134                   NaN  412.205207  741.825256   \n",
       "2  622.732384        495.510719            443.183580  669.683401  684.515750   \n",
       "3  350.164605        602.041588            413.979810  676.608952  671.237114   \n",
       "4  384.093657        489.249140            609.758123  520.426698  744.375048   \n",
       "\n",
       "     Sexo  \n",
       "0   Homem  \n",
       "1  Mulher  \n",
       "2   Homem  \n",
       "3   Homem  \n",
       "4   Homem  "
      ]
     },
     "execution_count": 4,
     "metadata": {},
     "output_type": "execute_result"
    }
   ],
   "source": [
    "data = pd.read_json('enem_2023.json')\n",
    "data.head(5)"
   ]
  },
  {
   "cell_type": "markdown",
   "metadata": {},
   "source": [
    " 1. Qual das disciplinas tem a maior amplitude de nota? "
   ]
  },
  {
   "cell_type": "code",
   "execution_count": null,
   "metadata": {},
   "outputs": [
    {
     "data": {
      "text/html": [
       "<div>\n",
       "<style scoped>\n",
       "    .dataframe tbody tr th:only-of-type {\n",
       "        vertical-align: middle;\n",
       "    }\n",
       "\n",
       "    .dataframe tbody tr th {\n",
       "        vertical-align: top;\n",
       "    }\n",
       "\n",
       "    .dataframe thead th {\n",
       "        text-align: right;\n",
       "    }\n",
       "</style>\n",
       "<table border=\"1\" class=\"dataframe\">\n",
       "  <thead>\n",
       "    <tr style=\"text-align: right;\">\n",
       "      <th></th>\n",
       "      <th>Linguagens</th>\n",
       "      <th>Ciências humanas</th>\n",
       "      <th>Ciências da natureza</th>\n",
       "      <th>Matemática</th>\n",
       "      <th>Redação</th>\n",
       "    </tr>\n",
       "  </thead>\n",
       "  <tbody>\n",
       "    <tr>\n",
       "      <th>count</th>\n",
       "      <td>897.000000</td>\n",
       "      <td>936.000000</td>\n",
       "      <td>824.000000</td>\n",
       "      <td>924.000000</td>\n",
       "      <td>860.000000</td>\n",
       "    </tr>\n",
       "    <tr>\n",
       "      <th>mean</th>\n",
       "      <td>514.524809</td>\n",
       "      <td>527.042281</td>\n",
       "      <td>499.315583</td>\n",
       "      <td>535.965660</td>\n",
       "      <td>637.783532</td>\n",
       "    </tr>\n",
       "    <tr>\n",
       "      <th>std</th>\n",
       "      <td>84.009313</td>\n",
       "      <td>77.811519</td>\n",
       "      <td>78.760404</td>\n",
       "      <td>86.648100</td>\n",
       "      <td>115.339972</td>\n",
       "    </tr>\n",
       "    <tr>\n",
       "      <th>min</th>\n",
       "      <td>287.000000</td>\n",
       "      <td>289.900000</td>\n",
       "      <td>314.400000</td>\n",
       "      <td>319.800000</td>\n",
       "      <td>270.839965</td>\n",
       "    </tr>\n",
       "    <tr>\n",
       "      <th>25%</th>\n",
       "      <td>458.360558</td>\n",
       "      <td>475.424546</td>\n",
       "      <td>444.709076</td>\n",
       "      <td>479.172971</td>\n",
       "      <td>556.468366</td>\n",
       "    </tr>\n",
       "    <tr>\n",
       "      <th>50%</th>\n",
       "      <td>515.045250</td>\n",
       "      <td>524.519920</td>\n",
       "      <td>500.479263</td>\n",
       "      <td>533.247767</td>\n",
       "      <td>635.273973</td>\n",
       "    </tr>\n",
       "    <tr>\n",
       "      <th>75%</th>\n",
       "      <td>571.635876</td>\n",
       "      <td>581.401952</td>\n",
       "      <td>548.751678</td>\n",
       "      <td>592.912963</td>\n",
       "      <td>715.989868</td>\n",
       "    </tr>\n",
       "    <tr>\n",
       "      <th>max</th>\n",
       "      <td>804.456317</td>\n",
       "      <td>763.919695</td>\n",
       "      <td>802.004568</td>\n",
       "      <td>807.877902</td>\n",
       "      <td>1000.000000</td>\n",
       "    </tr>\n",
       "  </tbody>\n",
       "</table>\n",
       "</div>"
      ],
      "text/plain": [
       "       Linguagens  Ciências humanas  Ciências da natureza  Matemática  \\\n",
       "count  897.000000        936.000000            824.000000  924.000000   \n",
       "mean   514.524809        527.042281            499.315583  535.965660   \n",
       "std     84.009313         77.811519             78.760404   86.648100   \n",
       "min    287.000000        289.900000            314.400000  319.800000   \n",
       "25%    458.360558        475.424546            444.709076  479.172971   \n",
       "50%    515.045250        524.519920            500.479263  533.247767   \n",
       "75%    571.635876        581.401952            548.751678  592.912963   \n",
       "max    804.456317        763.919695            802.004568  807.877902   \n",
       "\n",
       "           Redação  \n",
       "count   860.000000  \n",
       "mean    637.783532  \n",
       "std     115.339972  \n",
       "min     270.839965  \n",
       "25%     556.468366  \n",
       "50%     635.273973  \n",
       "75%     715.989868  \n",
       "max    1000.000000  "
      ]
     },
     "execution_count": 5,
     "metadata": {},
     "output_type": "execute_result"
    }
   ],
   "source": [
    "#Conhecer as estatísticas básicas dos dados\n",
    "data.describe()"
   ]
  },
  {
   "cell_type": "code",
   "execution_count": 12,
   "metadata": {},
   "outputs": [
    {
     "name": "stdout",
     "output_type": "stream",
     "text": [
      "Amplitude da disciplina de Linguagens é: 517.46\n",
      "Amplitude da disciplina de Ciências humanas é: 474.02\n",
      "Amplitude da disciplina de Ciências da natureza é: 487.60\n",
      "Amplitude da disciplina de Matemática é: 488.08\n",
      "A disciplina com a maior amplitude é Linguagens com uma amplitude de 517.46\n"
     ]
    }
   ],
   "source": [
    "#Descobrir a amplitude das disciplinas\n",
    "amplitude_nota_lg = data['Linguagens'].max() - data['Linguagens'].min()\n",
    "amplitude_nota_ch = data['Ciências humanas'].max() - data['Ciências humanas'].min()\n",
    "amplitude_nota_cn = data['Ciências da natureza'].max() - data['Ciências da natureza'].min()\n",
    "amplitude_nota_mt = data['Matemática'].max() - data['Matemática'].min()\n",
    "print(f\"Amplitude da disciplina de Linguagens é: {amplitude_nota_lg:.2f}\")\n",
    "print(f\"Amplitude da disciplina de Ciências humanas é: {amplitude_nota_ch:.2f}\")\n",
    "print(f\"Amplitude da disciplina de Ciências da natureza é: {amplitude_nota_cn:.2f}\")\n",
    "print(f\"Amplitude da disciplina de Matemática é: {amplitude_nota_mt:.2f}\")\n",
    "\n",
    "#Descobrir a disciplina com a maior amplitude\n",
    "amplitudes = {'Linguagens': amplitude_nota_lg,'Ciências humanas': amplitude_nota_ch,'Ciências da natureza': amplitude_nota_cn,'Matemática': amplitude_nota_mt}\n",
    "\n",
    "disciplina_maior_amplitude = max(amplitudes, key=amplitudes.get)\n",
    "maior_amplitude = amplitudes[disciplina_maior_amplitude]\n",
    "\n",
    "print(f\"A disciplina com a maior amplitude é {disciplina_maior_amplitude} com uma amplitude de {maior_amplitude:.2f}\")\n"
   ]
  },
  {
   "cell_type": "markdown",
   "metadata": {},
   "source": [
    "2. Qual é a média e a\n",
    " mediana para cada uma das disciplinas? (Lembre-se de remover todos os\n",
    " valores nulos quando considerar a mediana)"
   ]
  },
  {
   "cell_type": "code",
   "execution_count": 13,
   "metadata": {},
   "outputs": [
    {
     "name": "stdout",
     "output_type": "stream",
     "text": [
      "Média da disciplina de Linguagens é: 514.52\n",
      "Média da disciplina de Ciências humanas é: 527.04\n",
      "Média da disciplina de Ciências da natureza é: 499.32\n",
      "Média da disciplina de Matemática é: 535.97\n"
     ]
    }
   ],
   "source": [
    "#Realizar a média das disciplinas\n",
    "media_linguagens = data['Linguagens'].mean()\n",
    "media_ciencias_humanas = data['Ciências humanas'].mean()\n",
    "media_ciencias_natureza = data['Ciências da natureza'].mean()\n",
    "media_matematica = data['Matemática'].mean()\n",
    "print(f\"Média da disciplina de Linguagens é: {media_linguagens:.2f}\")\n",
    "print(f\"Média da disciplina de Ciências humanas é: {media_ciencias_humanas:.2f}\")\n",
    "print(f\"Média da disciplina de Ciências da natureza é: {media_ciencias_natureza:.2f}\")\n",
    "print(f\"Média da disciplina de Matemática é: {media_matematica:.2f}\")\n"
   ]
  },
  {
   "cell_type": "code",
   "execution_count": null,
   "metadata": {},
   "outputs": [
    {
     "name": "stdout",
     "output_type": "stream",
     "text": [
      "Linguagens              103\n",
      "Ciências humanas         64\n",
      "Ciências da natureza    176\n",
      "Matemática               76\n",
      "Redação                 140\n",
      "Sexo                      0\n",
      "dtype: int64\n"
     ]
    }
   ],
   "source": [
    "#Descobrir quantidade de valores nulos\n",
    "print(data.isnull().sum())\n"
   ]
  },
  {
   "cell_type": "code",
   "execution_count": 16,
   "metadata": {},
   "outputs": [
    {
     "name": "stdout",
     "output_type": "stream",
     "text": [
      "Linguagens              0\n",
      "Ciências humanas        0\n",
      "Ciências da natureza    0\n",
      "Matemática              0\n",
      "Redação                 0\n",
      "Sexo                    0\n",
      "dtype: int64\n",
      "Valores nulos removidos!\n"
     ]
    }
   ],
   "source": [
    "#Remover os valores nulos\n",
    "data.dropna(inplace=True)\n",
    "print(data.isnull().sum())\n",
    "print('Valores nulos removidos!')"
   ]
  },
  {
   "cell_type": "code",
   "execution_count": 17,
   "metadata": {},
   "outputs": [
    {
     "name": "stdout",
     "output_type": "stream",
     "text": [
      "Mediana da disciplina de Linguagens é: 517.13\n",
      "Mediana da disciplina de Ciências humanas é: 528.50\n",
      "Mediana da disciplina de Ciências da natureza é: 502.94\n",
      "Mediana da disciplina de Matemática é: 532.96\n"
     ]
    }
   ],
   "source": [
    "#Realizar a mediana das notas\n",
    "mediana_linguagens = data['Linguagens'].median()\n",
    "mediana_ciencias_humanas = data['Ciências humanas'].median()\n",
    "media_ciencias_humanas = data['Ciências da natureza'].median()\n",
    "mediana_matematica = data['Matemática'].median()\n",
    "print(f\"Mediana da disciplina de Linguagens é: {mediana_linguagens:.2f}\")\n",
    "print(f\"Mediana da disciplina de Ciências humanas é: {mediana_ciencias_humanas:.2f}\")\n",
    "print(f\"Mediana da disciplina de Ciências da natureza é: {media_ciencias_humanas:.2f}\")\n",
    "print(f\"Mediana da disciplina de Matemática é: {mediana_matematica:.2f}\")\n"
   ]
  },
  {
   "cell_type": "markdown",
   "metadata": {},
   "source": [
    "3. Considerando o curso de Ciência da Computação da UFPE, onde o peso\n",
    " cada uma das disciplinas ponderado:\n",
    " a. Redação - 2 \n",
    "b. Matemática e suas Tecnologias - 4 \n",
    "c. Linguagens, Códigos e suas Tecnologias - 2 \n",
    "d. Ciências Humanas e suas Tecnologias - 1 \n",
    "e. Ciências da Natureza e suas Tecnologias - 1\n",
    " Qual o desvio padrão e média das notas dos 500 estudantes mais bem\n",
    " colocados considerando esses pesos?"
   ]
  },
  {
   "cell_type": "code",
   "execution_count": null,
   "metadata": {},
   "outputs": [
    {
     "name": "stdout",
     "output_type": "stream",
     "text": [
      "Média das notas ponderadas dos 500 estudantes mais bem colocados: 556.44\n",
      "Desvio padrão das notas ponderadas dos 500 estudantes mais bem colocados: 41.72\n"
     ]
    },
    {
     "name": "stderr",
     "output_type": "stream",
     "text": [
      "C:\\Users\\deise\\AppData\\Local\\Temp\\ipykernel_21312\\4029675773.py:10: SettingWithCopyWarning: \n",
      "A value is trying to be set on a copy of a slice from a DataFrame.\n",
      "Try using .loc[row_indexer,col_indexer] = value instead\n",
      "\n",
      "See the caveats in the documentation: https://pandas.pydata.org/pandas-docs/stable/user_guide/indexing.html#returning-a-view-versus-a-copy\n",
      "  top_500['Nota_Ponderada'] = (\n"
     ]
    }
   ],
   "source": [
    "# Descobrir os primeiros 500 estudantes mais bem colocados\n",
    "notas = data[['Linguagens', 'Ciências humanas', 'Ciências da natureza', 'Matemática', 'Redação']].sum(axis=1)\n",
    "data['Notas'] = notas  \n",
    "data = data.sort_values(by='Notas', ascending=False)\n",
    "top_500 = data.head(500)\n",
    "\n",
    "# Calcular a nota ponderada para cada estudante\n",
    "pesos = {'Redação': 2, 'Matemática': 4, 'Linguagens': 2, 'Ciências humanas': 1, 'Ciências da natureza': 1}\n",
    "\n",
    "top_500['Nota_Ponderada'] = (top_500['Redação'] * pesos['Redação'] + top_500['Matemática'] * pesos['Matemática'] + top_500['Linguagens'] * pesos['Linguagens'] + top_500['Ciências humanas'] * pesos['Ciências humanas'] + top_500['Ciências da natureza'] * pesos['Ciências da natureza']) / sum(pesos.values())\n",
    "\n",
    "# Calcular a média e o desvio padrão das notas ponderadas\n",
    "media = top_500['Nota_Ponderada'].mean()\n",
    "desvio_padrao = top_500['Nota_Ponderada'].std()\n",
    "\n",
    "print(f\"Média das notas ponderadas dos 500 estudantes mais bem colocados: {media:.2f}\")\n",
    "print(f\"Desvio padrão das notas ponderadas dos 500 estudantes mais bem colocados: {desvio_padrao:.2f}\")"
   ]
  },
  {
   "cell_type": "markdown",
   "metadata": {},
   "source": [
    "4. Se todos esses estudantes aplicassem para ciência da computação e existem apenas 40 vagas, qual seria a variância e média da nota dos estudantes que entraram no curso de ciência da computação?"
   ]
  },
  {
   "cell_type": "code",
   "execution_count": 29,
   "metadata": {},
   "outputs": [
    {
     "name": "stdout",
     "output_type": "stream",
     "text": [
      "Média das notas ponderadas dos 40 estudantes mais bem colocados: 626.64\n",
      "Variância das notas ponderadas dos 40 estudantes mais bem colocados: 652.71\n"
     ]
    }
   ],
   "source": [
    "# Selecionar os 40 primeiros estudantes\n",
    "top_40 = top_500.head(40)\n",
    "\n",
    "# Calcular a média e a variância das notas ponderadas dos 40 estudantes\n",
    "media_top_40 = top_40['Nota_Ponderada'].mean()\n",
    "variancia_top_40 = top_40['Nota_Ponderada'].var()\n",
    "\n",
    "print(f\"Média das notas ponderadas dos 40 estudantes mais bem colocados: {media_top_40:.2f}\")\n",
    "print(f\"Variância das notas ponderadas dos 40 estudantes mais bem colocados: {variancia_top_40:.2f}\")"
   ]
  },
  {
   "cell_type": "markdown",
   "metadata": {},
   "source": [
    " 5. Qual o valor do teto do terceiro quartil para as disciplinas de matemática e linguagens?"
   ]
  },
  {
   "cell_type": "code",
   "execution_count": 33,
   "metadata": {},
   "outputs": [
    {
     "name": "stdout",
     "output_type": "stream",
     "text": [
      "Valor do teto do terceiro quartil para Matemática: 591.34\n",
      "Valor do teto do terceiro quartil para Linguagens: 572.65\n"
     ]
    }
   ],
   "source": [
    "# Calcular o terceiro quartil para as disciplinas de Matemática e Linguagens\n",
    "terceiro_quartil_matematica = data['Matemática'].quantile(0.75)\n",
    "terceiro_quartil_linguagens = data['Linguagens'].quantile(0.75)\n",
    "\n",
    "print(f\"Valor do teto do terceiro quartil para Matemática: {terceiro_quartil_matematica:.2f}\")\n",
    "print(f\"Valor do teto do terceiro quartil para Linguagens: {terceiro_quartil_linguagens:.2f}\")"
   ]
  },
  {
   "cell_type": "markdown",
   "metadata": {},
   "source": [
    " 6. Faça o histograma de Redação e Linguagens, de 20 em 20 pontos. Podemos dizer que são histogramas simétricos, justifique classifique se não assimétricas?"
   ]
  },
  {
   "cell_type": "code",
   "execution_count": null,
   "metadata": {},
   "outputs": [
    {
     "data": {
      "image/png": "[encoded data removed]",
      "text/plain": [
       "<Figure size 1400x600 with 2 Axes>"
      ]
     },
     "metadata": {},
     "output_type": "display_data"
    },
    {
     "name": "stdout",
     "output_type": "stream",
     "text": [
      "Assimetria do histograma de Redação: 0.02\n",
      "Assimetria do histograma de Linguagens: 0.07\n",
      "O histograma de Redação é aproximadamente simétrico.\n",
      "O histograma de Linguagens é aproximadamente simétrico.\n"
     ]
    }
   ],
   "source": [
    "# Apresentar o tamanho dos histogramas\n",
    "plt.figure(figsize=(14, 6))\n",
    "\n",
    "# Criar histograma de Redação\n",
    "plt.subplot(1, 2, 1)\n",
    "plt.hist(data['Redação'], bins=range(0, 801, 20), color='pink', edgecolor='black')\n",
    "plt.title('Histograma de Redação')\n",
    "plt.xlabel('Nota')\n",
    "plt.ylabel('Frequência')\n",
    "\n",
    "# Criar histograma de Linguagens\n",
    "plt.subplot(1, 2, 2)\n",
    "plt.hist(data['Linguagens'], bins=range(0, 801, 20), color='pink', edgecolor='black')\n",
    "plt.title('Histograma de Linguagens')\n",
    "plt.xlabel('Nota')\n",
    "plt.ylabel('Frequência')\n",
    "\n",
    "plt.tight_layout()\n",
    "plt.show()\n",
    "\n",
    "# Análisar a simetria dos histogramas\n",
    "redacao_skewness = data['Redação'].skew()\n",
    "linguagens_skewness = data['Linguagens'].skew()\n",
    "\n",
    "print(f\"Assimetria do histograma de Redação: {redacao_skewness:.2f}\")\n",
    "print(f\"Assimetria do histograma de Linguagens: {linguagens_skewness:.2f}\")\n",
    "\n",
    "if abs(redacao_skewness) < 0.5:\n",
    "    print(\"O histograma de Redação é aproximadamente simétrico.\")\n",
    "elif redacao_skewness > 0:\n",
    "    print(\"O histograma de Redação é assimétrico positivo (assimetria à direita).\")\n",
    "else:\n",
    "    print(\"O histograma de Redação é assimétrico negativo (assimetria à esquerda).\")\n",
    "\n",
    "if abs(linguagens_skewness) < 0.5:\n",
    "    print(\"O histograma de Linguagens é aproximadamente simétrico.\")\n",
    "elif linguagens_skewness > 0:\n",
    "    print(\"O histograma de Linguagens é assimétrico positivo (assimetria à direita).\")\n",
    "else:\n",
    "    print(\"O histograma de Linguagens é assimétrico negativo (assimetria à esquerda).\")"
   ]
  },
  {
   "cell_type": "markdown",
   "metadata": {},
   "source": [
    " 7. Agora coloque um range fixo de 0 até 1000, você ainda tem a mesma opinião quanto a simetria? [plt.hist(dado, bins=_, range=[0, 1000])"
   ]
  },
  {
   "cell_type": "code",
   "execution_count": null,
   "metadata": {},
   "outputs": [
    {
     "data": {
      "image/png": "[encoded data removed]",
      "text/plain": [
       "<Figure size 1400x600 with 2 Axes>"
      ]
     },
     "metadata": {},
     "output_type": "display_data"
    },
    {
     "name": "stdout",
     "output_type": "stream",
     "text": [
      "Assimetria do histograma de Redação: 0.02\n",
      "Assimetria do histograma de Linguagens: 0.07\n",
      "O histograma de Redação é aproximadamente simétrico.\n",
      "O histograma de Linguagens é aproximadamente simétrico.\n"
     ]
    }
   ],
   "source": [
    "# Apresentar o tamanho dos histogramas\n",
    "plt.figure(figsize=(14, 6))\n",
    "\n",
    "# Criar histograma de Redação\n",
    "plt.subplot(1, 2, 1)\n",
    "plt.hist(data['Redação'], bins=50, range=[0, 1000], color='red', edgecolor='black')\n",
    "plt.title('Histograma de Redação (0 a 1000)')\n",
    "plt.xlabel('Nota')\n",
    "plt.ylabel('Frequência')\n",
    "\n",
    "# Criar histograma de Linguagens\n",
    "plt.subplot(1, 2, 2)\n",
    "plt.hist(data['Linguagens'], bins=50, range=[0, 1000], color='red', edgecolor='black')\n",
    "plt.title('Histograma de Linguagens (0 a 1000)')\n",
    "plt.xlabel('Nota')\n",
    "plt.ylabel('Frequência')\n",
    "\n",
    "plt.tight_layout()\n",
    "plt.show()\n",
    "\n",
    "# Análisar a simetria dos histogramas\n",
    "redacao_skewness = data['Redação'].skew()\n",
    "linguagens_skewness = data['Linguagens'].skew()\n",
    "\n",
    "print(f\"Assimetria do histograma de Redação: {redacao_skewness:.2f}\")\n",
    "print(f\"Assimetria do histograma de Linguagens: {linguagens_skewness:.2f}\")\n",
    "\n",
    "if abs(redacao_skewness) < 0.5:\n",
    "    print(\"O histograma de Redação é aproximadamente simétrico.\")\n",
    "elif redacao_skewness > 0:\n",
    "    print(\"O histograma de Redação é assimétrico positivo (assimetria à direita).\")\n",
    "else:\n",
    "    print(\"O histograma de Redação é assimétrico negativo (assimetria à esquerda).\")\n",
    "\n",
    "if abs(linguagens_skewness) < 0.5:\n",
    "    print(\"O histograma de Linguagens é aproximadamente simétrico.\")\n",
    "elif linguagens_skewness > 0:\n",
    "    print(\"O histograma de Linguagens é assimétrico positivo (assimetria à direita).\")\n",
    "else:\n",
    "    print(\"O histograma de Linguagens é assimétrico negativo (assimetria à esquerda).\")"
   ]
  },
  {
   "cell_type": "markdown",
   "metadata": {},
   "source": [
    "8. Faça um boxplot para as notas de Ciências da Natureza e Redação, analisando os quartis e identificando possíveis outliers. Utilize o método IQR (Intervalo Interquartílico) para essa análise."
   ]
  },
  {
   "cell_type": "code",
   "execution_count": 44,
   "metadata": {},
   "outputs": [
    {
     "data": {
      "image/png": "[encoded data removed]",
      "text/plain": [
       "<Figure size 1200x600 with 2 Axes>"
      ]
     },
     "metadata": {},
     "output_type": "display_data"
    },
    {
     "name": "stdout",
     "output_type": "stream",
     "text": [
      "Outliers em Ciências da Natureza:\n",
      "     Linguagens  Ciências humanas  Ciências da natureza  Matemática  \\\n",
      "325  618.876115        432.687076            802.004568  560.289340   \n",
      "482  370.689068        524.709047            732.502964  408.637397   \n",
      "\n",
      "        Redação   Sexo        Notas  \n",
      "325  601.319954  Homem  3015.177053  \n",
      "482  813.910774  Homem  2850.449250  \n",
      "Outliers em Redação:\n",
      "     Linguagens  Ciências humanas  Ciências da natureza  Matemática  \\\n",
      "545  554.412589         495.33427            566.178079  423.356151   \n",
      "\n",
      "        Redação   Sexo        Notas  \n",
      "545  290.308608  Homem  2329.589697  \n"
     ]
    }
   ],
   "source": [
    "# Apresentar o tamanho do Boxplot\n",
    "plt.figure(figsize=(12, 6))\n",
    "\n",
    "# Criar Boxplot de Ciências da Natureza\n",
    "plt.subplot(1, 2, 1)\n",
    "plt.boxplot(data['Ciências da natureza'], vert=False)\n",
    "plt.title('Boxplot de Ciências da Natureza')\n",
    "plt.xlabel('Nota')\n",
    "\n",
    "# Criar Boxplot de Redação\n",
    "plt.subplot(1, 2, 2)\n",
    "plt.boxplot(data['Redação'], vert=False)\n",
    "plt.title('Boxplot de Redação')\n",
    "plt.xlabel('Nota')\n",
    "\n",
    "plt.tight_layout()\n",
    "plt.show()\n",
    "\n",
    "# Análisar os outliers usando o método IQR\n",
    "def identificar_outliers(coluna):\n",
    "    Q1 = data[coluna].quantile(0.25)\n",
    "    Q3 = data[coluna].quantile(0.75)\n",
    "    IQR = Q3 - Q1\n",
    "    limite_inferior = Q1 - 1.5 * IQR\n",
    "    limite_superior = Q3 + 1.5 * IQR\n",
    "    outliers = data[(data[coluna] < limite_inferior) | (data[coluna] > limite_superior)]\n",
    "    return outliers\n",
    "\n",
    "outliers_cn = identificar_outliers('Ciências da natureza')\n",
    "outliers_redacao = identificar_outliers('Redação')\n",
    "\n",
    "print(f\"Outliers em Ciências da Natureza:\\n{outliers_cn}\")\n",
    "print(f\"Outliers em Redação:\\n{outliers_redacao}\")"
   ]
  },
  {
   "cell_type": "markdown",
   "metadata": {},
   "source": [
    " 9. Remova todos os outliers e verifique se eles são passíveis de alterar a média nacional significativamente? (considere significativamente um valor acima de 5%)"
   ]
  },
  {
   "cell_type": "code",
   "execution_count": 45,
   "metadata": {},
   "outputs": [
    {
     "name": "stdout",
     "output_type": "stream",
     "text": [
      "Média de Ciências da Natureza antes da remoção dos outliers: 502.14\n",
      "Média de Ciências da Natureza depois da remoção dos outliers: 501.05\n",
      "Alteração na média de Ciências da Natureza: 0.22%\n",
      "Média de Redação antes da remoção dos outliers: 641.19\n",
      "Média de Redação depois da remoção dos outliers: 641.59\n",
      "Alteração na média de Redação: 0.06%\n",
      "A remoção dos outliers não alterou significativamente a média de Ciências da Natureza.\n",
      "A remoção dos outliers não alterou significativamente a média de Redação.\n"
     ]
    }
   ],
   "source": [
    "# Remover os outliers\n",
    "data_sem_outliers = data.copy()\n",
    "data_sem_outliers = data_sem_outliers[~data_sem_outliers.index.isin(outliers_cn.index)]\n",
    "data_sem_outliers = data_sem_outliers[~data_sem_outliers.index.isin(outliers_redacao.index)]\n",
    "\n",
    "# Calcular a média antes e depois da remoção dos outliers\n",
    "media_cn_antes = data['Ciências da natureza'].mean()\n",
    "media_redacao_antes = data['Redação'].mean()\n",
    "media_cn_depois = data_sem_outliers['Ciências da natureza'].mean()\n",
    "media_redacao_depois = data_sem_outliers['Redação'].mean()\n",
    "\n",
    "# Verificar se a alteração é significativa (acima de 5%)\n",
    "alteracao_cn = abs(media_cn_depois - media_cn_antes) / media_cn_antes * 100\n",
    "alteracao_redacao = abs(media_redacao_depois - media_redacao_antes) / media_redacao_antes * 100\n",
    "\n",
    "print(f\"Média de Ciências da Natureza antes da remoção dos outliers: {media_cn_antes:.2f}\")\n",
    "print(f\"Média de Ciências da Natureza depois da remoção dos outliers: {media_cn_depois:.2f}\")\n",
    "print(f\"Alteração na média de Ciências da Natureza: {alteracao_cn:.2f}%\")\n",
    "\n",
    "print(f\"Média de Redação antes da remoção dos outliers: {media_redacao_antes:.2f}\")\n",
    "print(f\"Média de Redação depois da remoção dos outliers: {media_redacao_depois:.2f}\")\n",
    "print(f\"Alteração na média de Redação: {alteracao_redacao:.2f}%\")\n",
    "\n",
    "if alteracao_cn > 5:\n",
    "    print(\"A remoção dos outliers alterou significativamente a média de Ciências da Natureza.\")\n",
    "else:\n",
    "    print(\"A remoção dos outliers não alterou significativamente a média de Ciências da Natureza.\")\n",
    "\n",
    "if alteracao_redacao > 5:\n",
    "    \n",
    "    print(\"A remoção dos outliers alterou significativamente a média de Redação.\")\n",
    "else:\n",
    "    print(\"A remoção dos outliers não alterou significativamente a média de Redação.\")"
   ]
  },
  {
   "cell_type": "markdown",
   "metadata": {},
   "source": [
    " 10. Considerando valores nulos, tente encontrar qual seria a melhor medida  de tendência que pode substituir as notas nulas. Média, moda ou mediana? Substitua o valor por todos os três e diga qual delas altera menos a média geral e o desvio padrão."
   ]
  },
  {
   "cell_type": "code",
   "execution_count": null,
   "metadata": {},
   "outputs": [
    {
     "name": "stdout",
     "output_type": "stream",
     "text": [
      "Quantidade de valores nulos em cada coluna antes da substituição:\n",
      "Linguagens              103\n",
      "Ciências humanas         64\n",
      "Ciências da natureza    176\n",
      "Matemática               76\n",
      "Redação                 140\n",
      "dtype: int64\n",
      "Alteração na média geral ao substituir pela média: 0.00%\n",
      "Alteração no desvio padrão ao substituir pela média: 5.79%\n",
      "Alteração na média geral ao substituir pela moda: 5.01%\n",
      "Alteração no desvio padrão ao substituir pela moda: 27.20%\n",
      "Alteração na média geral ao substituir pela mediana: 0.04%\n",
      "Alteração no desvio padrão ao substituir pela mediana: 5.79%\n",
      "A melhor medida para substituir os valores nulos é: média\n"
     ]
    }
   ],
   "source": [
    "#Colocando novamento a base de dados, para considerar os valores nulos\n",
    "data = pd.read_json('enem_2023.json')\n",
    "\n",
    "# Selecionar apenas as colunas numéricas\n",
    "data_numerico = data.select_dtypes(include=[np.number])\n",
    "\n",
    "# Calcular a média, moda e mediana das notas\n",
    "media = data_numerico.mean()\n",
    "moda = data_numerico.mode().iloc[0]\n",
    "mediana = data_numerico.median()\n",
    "\n",
    "# Verificar a quantidade de valores nulos em cada coluna\n",
    "print(\"Quantidade de valores nulos em cada coluna antes da substituição:\")\n",
    "print(data_numerico.isnull().sum())\n",
    "\n",
    "# Criar Função para substituir valores nulos e calcular a média e o desvio padrão\n",
    "def substituir_e_calcular(data, valor_substituicao):\n",
    "    data_substituida = data.fillna(valor_substituicao)\n",
    "    media_geral = data_substituida.mean()\n",
    "    desvio_padrao = data_substituida.std()\n",
    "    return media_geral, desvio_padrao\n",
    "\n",
    "# Substituir valores nulos pela média\n",
    "media_geral_media, desvio_padrao_media = substituir_e_calcular(data_numerico, media)\n",
    "\n",
    "# Substituir valores nulos pela moda\n",
    "media_geral_moda, desvio_padrao_moda = substituir_e_calcular(data_numerico, moda)\n",
    "\n",
    "# Substituir valores nulos pela mediana\n",
    "media_geral_mediana, desvio_padrao_mediana = substituir_e_calcular(data_numerico, mediana)\n",
    "\n",
    "# Calcular a média geral e o desvio padrão originais (sem substituição)\n",
    "media_geral_original = data_numerico.mean()\n",
    "desvio_padrao_original = data_numerico.std()\n",
    "\n",
    "# Comparar as alterações na média geral e no desvio padrão\n",
    "alteracao_media_media = abs(media_geral_media - media_geral_original) / media_geral_original * 100\n",
    "alteracao_desvio_padrao_media = abs(desvio_padrao_media - desvio_padrao_original) / desvio_padrao_original * 100\n",
    "\n",
    "alteracao_media_moda = abs(media_geral_moda - media_geral_original) / media_geral_original * 100\n",
    "alteracao_desvio_padrao_moda = abs(desvio_padrao_moda - desvio_padrao_original) / desvio_padrao_original * 100\n",
    "\n",
    "alteracao_media_mediana = abs(media_geral_mediana - media_geral_original) / media_geral_original * 100\n",
    "alteracao_desvio_padrao_mediana = abs(desvio_padrao_mediana - desvio_padrao_original) / desvio_padrao_original * 100\n",
    "\n",
    "print(f\"Alteração na média geral ao substituir pela média: {alteracao_media_media.mean():.2f}%\")\n",
    "print(f\"Alteração no desvio padrão ao substituir pela média: {alteracao_desvio_padrao_media.mean():.2f}%\")\n",
    "\n",
    "print(f\"Alteração na média geral ao substituir pela moda: {alteracao_media_moda.mean():.2f}%\")\n",
    "print(f\"Alteração no desvio padrão ao substituir pela moda: {alteracao_desvio_padrao_moda.mean():.2f}%\")\n",
    "\n",
    "print(f\"Alteração na média geral ao substituir pela mediana: {alteracao_media_mediana.mean():.2f}%\")\n",
    "print(f\"Alteração no desvio padrão ao substituir pela mediana: {alteracao_desvio_padrao_mediana.mean():.2f}%\")\n",
    "\n",
    "# Determinar qual medida altera menos a média geral e o desvio padrão\n",
    "melhor_medida = 'média' if alteracao_media_media.mean() < alteracao_media_moda.mean() and alteracao_media_media.mean() < alteracao_media_mediana.mean() else 'moda' if alteracao_media_moda.mean() < alteracao_media_mediana.mean() else 'mediana'\n",
    "print(f\"A melhor medida para substituir os valores nulos é: {melhor_medida}\")"
   ]
  }
 ],
 "metadata": {
  "kernelspec": {
   "display_name": "Python 3",
   "language": "python",
   "name": "python3"
  },
  "language_info": {
   "codemirror_mode": {
    "name": "ipython",
    "version": 3
   },
   "file_extension": ".py",
   "mimetype": "text/x-python",
   "name": "python",
   "nbconvert_exporter": "python",
   "pygments_lexer": "ipython3",
   "version": "3.11.9"
  }
 },
 "nbformat": 4,
 "nbformat_minor": 2
}
